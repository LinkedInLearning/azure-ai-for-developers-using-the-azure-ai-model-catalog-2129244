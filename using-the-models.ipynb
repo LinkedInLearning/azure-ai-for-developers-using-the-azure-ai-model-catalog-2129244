{
 "cells": [
  {
   "cell_type": "code",
   "execution_count": null,
   "id": "3155a2fd",
   "metadata": {},
   "outputs": [],
   "source": [
    "%pip install azure-ai-inference"
   ]
  },
  {
   "cell_type": "markdown",
   "id": "50445176",
   "metadata": {},
   "source": [
    "## Importing the required libraries"
   ]
  },
  {
   "cell_type": "code",
   "execution_count": null,
   "id": "34294db2",
   "metadata": {},
   "outputs": [],
   "source": [
    "from azure.ai.inference import ChatCompletionsClient\n",
    "from azure.ai.inference.models import SystemMessage, UserMessage\n",
    "from azure.core.credentials import AzureKeyCredential\n",
    "import os"
   ]
  },
  {
   "cell_type": "markdown",
   "id": "1ac4db76",
   "metadata": {},
   "source": [
    "## Serverless vs Managed Compute"
   ]
  },
  {
   "cell_type": "code",
   "execution_count": null,
   "id": "b01bfe98",
   "metadata": {},
   "outputs": [],
   "source": [
    "compute = \"managed\"\n",
    "\n",
    "# Set Configuration\n",
    "if compute == \"serverless\":\n",
    "    endpoint = os.getenv(\"SERVERLESS_ENDPOINT\")\n",
    "    key = os.getenv(\"SERVERLESS_KEY\")\n",
    "    deployment_name = os.getenv(\"SERVERLESS_MODEL\")\n",
    "elif compute == \"managed\":\n",
    "    endpoint = os.getenv(\"MANAGED_ENDPOINT\") #without /score\n",
    "    key = os.getenv(\"MANAGED_KEY\")\n",
    "    deployment_name = os.getenv(\"MANAGED_MODEL\")\n",
    "\n",
    "\n",
    "# Create a client\n",
    "client = ChatCompletionsClient(\n",
    "    endpoint = endpoint,\n",
    "    credential=AzureKeyCredential(key)\n",
    ")\n",
    "\n",
    "messages = [\n",
    "    SystemMessage(content=\"You reply the user's question with a joke based on some keywords.\"),\n",
    "    UserMessage(content=\"Azure Model Catalog\")\n",
    "]\n",
    "\n",
    "result = client.complete(\n",
    "    messages=messages,\n",
    "    model = deployment_name,\n",
    ")\n",
    "print(f\"#### {compute} ####\")\n",
    "print(f\"Used Endpoint: {endpoint}\")\n",
    "print()\n",
    "print(result.choices[0].message.content)"
   ]
  },
  {
   "cell_type": "code",
   "execution_count": null,
   "id": "26f68fc1",
   "metadata": {},
   "outputs": [],
   "source": []
  }
 ],
 "metadata": {
  "kernelspec": {
   "display_name": ".venv",
   "language": "python",
   "name": "python3"
  },
  "language_info": {
   "codemirror_mode": {
    "name": "ipython",
    "version": 3
   },
   "file_extension": ".py",
   "mimetype": "text/x-python",
   "name": "python",
   "nbconvert_exporter": "python",
   "pygments_lexer": "ipython3",
   "version": "3.11.9"
  }
 },
 "nbformat": 4,
 "nbformat_minor": 5
}
